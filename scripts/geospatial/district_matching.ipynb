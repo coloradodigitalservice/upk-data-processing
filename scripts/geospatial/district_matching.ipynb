{
 "cells": [
  {
   "cell_type": "code",
   "execution_count": null,
   "metadata": {},
   "outputs": [],
   "source": [
    "import geopandas as gpd\n",
    "from geopandas import points_from_xy\n",
    "import pandas as pd\n"
   ]
  },
  {
   "cell_type": "code",
   "execution_count": null,
   "metadata": {},
   "outputs": [],
   "source": [
    "# TODO, switch this with static report if possible\n",
    "children_df = pd.read_csv(\"../../data_in/bridgecare/MC_- School District Assignment Prep_3_22_2023.csv\")\n",
    "children_df = children_df.rename(\n",
    "    columns={\n",
    "        \"Group.Id\": \"Group ID\",\n",
    "        \"Group.Home latitude\": \"lat\",\n",
    "        \"Group.Home longitude\": \"lon\",\n",
    "    }\n",
    ")\n",
    "children_df.head()"
   ]
  },
  {
   "cell_type": "code",
   "execution_count": null,
   "metadata": {},
   "outputs": [],
   "source": [
    "schooldistricts_gdf = gpd.read_file(\"../../data_in/school_districts/CDPHE_CDOE_School_District_Boundaries/CDPHE_CDOE_School_District_Boundaries.shp\")\n",
    "schooldistricts_gdf.head()"
   ]
  },
  {
   "cell_type": "code",
   "execution_count": null,
   "metadata": {},
   "outputs": [],
   "source": [
    "schooldistricts_gdf.plot()\n",
    "schooldistricts_gdf.crs"
   ]
  },
  {
   "cell_type": "code",
   "execution_count": null,
   "metadata": {},
   "outputs": [],
   "source": [
    "children_df.dtypes"
   ]
  },
  {
   "cell_type": "code",
   "execution_count": null,
   "metadata": {},
   "outputs": [],
   "source": [
    "children_df.plot(\n",
    "    kind='scatter', x=\"lon\", y=\"lat\"\n",
    ")\n"
   ]
  },
  {
   "cell_type": "code",
   "execution_count": null,
   "metadata": {},
   "outputs": [],
   "source": [
    "ieps_gdf = gpd.GeoDataFrame(children_df, crs=\"EPSG:4326\", geometry=points_from_xy(children_df[\"lon\"], children_df[\"lat\"]))\n",
    "ieps_gdf.head()"
   ]
  },
  {
   "cell_type": "code",
   "execution_count": null,
   "metadata": {},
   "outputs": [],
   "source": [
    "joined = gpd.sjoin(ieps_gdf, schooldistricts_gdf,\n",
    "                   how=\"left\", predicate=\"within\")\n",
    "joined.head()"
   ]
  },
  {
   "cell_type": "code",
   "execution_count": null,
   "metadata": {},
   "outputs": [],
   "source": [
    "res = joined.groupby('NAME')\n",
    "res.count()"
   ]
  },
  {
   "cell_type": "code",
   "execution_count": null,
   "metadata": {},
   "outputs": [],
   "source": [
    "joined.to_csv('../../data_out/bridgecare/child/school_district_match.csv', index=False)\n"
   ]
  }
 ],
 "metadata": {
  "kernelspec": {
   "display_name": "myenv",
   "language": "python",
   "name": "python3"
  },
  "language_info": {
   "codemirror_mode": {
    "name": "ipython",
    "version": 3
   },
   "file_extension": ".py",
   "mimetype": "text/x-python",
   "name": "python",
   "nbconvert_exporter": "python",
   "pygments_lexer": "ipython3",
   "version": "3.8.10"
  },
  "orig_nbformat": 4
 },
 "nbformat": 4,
 "nbformat_minor": 2
}
