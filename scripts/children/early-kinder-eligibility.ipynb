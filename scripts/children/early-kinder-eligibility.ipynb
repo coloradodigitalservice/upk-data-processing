{
 "cells": [
  {
   "cell_type": "code",
   "execution_count": null,
   "metadata": {},
   "outputs": [],
   "source": [
    "import os\n",
    "import pandas as pd\n",
    "import requests\n",
    "from io import StringIO\n",
    "from datetime import datetime\n",
    "from dotenv import load_dotenv\n",
    "load_dotenv()"
   ]
  },
  {
   "cell_type": "code",
   "execution_count": null,
   "metadata": {},
   "outputs": [],
   "source": [
    "# Import all Children with Birthdate and School District from report\n",
    "# Report Name: MC - Early Kinder Eligibility by School District\n",
    "# Report Url: https://admin.upk.colorado.gov/reports/709ed9e0-6255-49c5-8504-9acbca5e6a2b\n",
    "bridgecare_shared_report_url = os.getenv(\"API_URL\")\n",
    "report_id = os.getenv(\"REPORT_ID\")\n",
    "bc_params = {'share_token': os.getenv(\"SHARE_TOKEN\")}\n",
    "\n",
    "response = requests.get(bridgecare_shared_report_url +\n",
    "                        report_id, params=bc_params)\n",
    "\n",
    "students_df = pd.read_csv(StringIO(response.text), sep=\",\")\n",
    "students_df = students_df.rename(\n",
    "    columns={\n",
    "        \"Group.School District\": \"School District\",\n",
    "        \"Group.ID\": \"Group ID\"\n",
    "\n",
    "    }\n",
    ")\n",
    "\n",
    "# count of rows\n",
    "print(students_df.shape[0])\n",
    "\n",
    "students_df.head()\n"
   ]
  },
  {
   "cell_type": "code",
   "execution_count": null,
   "metadata": {},
   "outputs": [],
   "source": [
    "# Import School District Cutoff data\n",
    "# make sure school district names map to values in \"Group.School District\"\n",
    "school_district_df = pd.read_csv(\n",
    "    \"../../data_in/school_districts/School District Cutoffs.csv\")\n",
    "school_district_df = school_district_df.rename(\n",
    "    columns={\n",
    "        \"NAME\": \"School District\"\n",
    "    }\n",
    ")\n",
    "school_district_df.head()"
   ]
  },
  {
   "cell_type": "code",
   "execution_count": null,
   "metadata": {},
   "outputs": [],
   "source": [
    "students_merged_df = students_df.merge(\n",
    "    school_district_df, on=\"School District\")\n",
    "students_merged_df = students_merged_df.sort_values(by=['Date of birth'])\n",
    "students_merged_df.head(10)"
   ]
  },
  {
   "cell_type": "code",
   "execution_count": null,
   "metadata": {},
   "outputs": [],
   "source": [
    "# Calculate Pre-Kinde eligibility based on \n",
    "# school district cutoff date and birthdate.\n",
    "def calc_eligibility(row):\n",
    "    # If their school district doesn't have a cutoff date, they are not eligible\n",
    "    if pd.isna(row[\"Cutoff date\"]):\n",
    "        return None\n",
    "    else:\n",
    "        # Define key dates\n",
    "        kinder_eligible_date = datetime.strptime(row[\"Cutoff date\"] + \"-2018\", '%d-%b-%Y').date()\n",
    "        upk_4yo_eligible_date = datetime.strptime(row[\"Cutoff date\"] + \"-2019\", '%d-%b-%Y').date()\n",
    "        upk_3yo_eligible_date = datetime.strptime(row[\"Cutoff date\"] + \"-2020\", '%d-%b-%Y').date()\n",
    "        threeyear_before_kinder_date = datetime.strptime(row[\"Cutoff date\"] + \"-2021\", '%d-%b-%Y').date()\n",
    "        school_age_date = pd.to_datetime(\n",
    "            kinder_eligible_date)+pd.DateOffset(years=-1)\n",
    "        \n",
    "        dob_string = str(row[\"Date of birth\"])\n",
    "\n",
    "        # If the date of birth is missing, return None\n",
    "        if dob_string is None:\n",
    "            return None\n",
    "        if dob_string == 'nan':\n",
    "            return None    \n",
    "\n",
    "        # Format date of birth to date type \n",
    "        dob = datetime.strptime(dob_string, '%Y-%m-%d').date()\n",
    "\n",
    "        # Start with the oldest age group and work down\n",
    "        if dob <= school_age_date:\n",
    "            return None\n",
    "        elif dob <= kinder_eligible_date:\n",
    "            return \"Kinder\"\n",
    "        elif dob <= upk_4yo_eligible_date:\n",
    "            return \"1 Year Before Kinder\"\n",
    "        elif dob <= upk_3yo_eligible_date:\n",
    "            return \"2 Years Before Kinder\"\n",
    "        elif dob <= threeyear_before_kinder_date:\n",
    "            return \"3 Years Before Kinder\"\n",
    "        else:\n",
    "            return None\n",
    "\n",
    "students_merged_df['Early Kinder Eligibility'] = students_merged_df.apply(\n",
    "    lambda row: calc_eligibility(row), axis=1)\n",
    "\n",
    "students_merged_df = students_merged_df.sort_values(\n",
    "    by=['ID'])\n",
    "students_merged_df.head(10)"
   ]
  },
  {
   "cell_type": "code",
   "execution_count": null,
   "metadata": {},
   "outputs": [],
   "source": [
    "students_merged_df.to_csv(\n",
    "    '../../data_out/bridgecare/child/early_kinder_eligibility.csv', index=False)"
   ]
  },
  {
   "cell_type": "code",
   "execution_count": null,
   "metadata": {},
   "outputs": [],
   "source": [
    "# Only keep ID and Early Kinder Eligibility columns for data sync\n",
    "minified_df = students_merged_df[['ID', 'Early Kinder Eligibility', 'Group ID']]\n",
    "# Skip rows with no pre-kinder eligibility status\n",
    "minified_df = minified_df.dropna(thresh=2)\n",
    "minified_df.to_csv(\n",
    "    '../../data_out/bridgecare/child/early_kinder_eligibility_min.csv', index=False)"
   ]
  }
 ],
 "metadata": {
  "kernelspec": {
   "display_name": "Python 3",
   "language": "python",
   "name": "python3"
  },
  "language_info": {
   "codemirror_mode": {
    "name": "ipython",
    "version": 3
   },
   "file_extension": ".py",
   "mimetype": "text/x-python",
   "name": "python",
   "nbconvert_exporter": "python",
   "pygments_lexer": "ipython3",
   "version": "3.8.10"
  },
  "orig_nbformat": 4,
  "vscode": {
   "interpreter": {
    "hash": "7e69a080dbb0454b97739f90e27cc0c8ab0d23286341dc422cf4982f63083ebf"
   }
  }
 },
 "nbformat": 4,
 "nbformat_minor": 2
}
