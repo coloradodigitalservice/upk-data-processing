{
 "cells": [
  {
   "cell_type": "code",
   "execution_count": null,
   "metadata": {},
   "outputs": [],
   "source": [
    "# Import and configure Pandas\n",
    "import pandas as pd\n",
    "import requests\n",
    "import os\n",
    "from dotenv import load_dotenv\n",
    "load_dotenv()\n",
    "\n",
    "# Feel free to comment out these two lines if you don't want output displays to be verbose.\n",
    "pd.set_option('display.expand_frame_repr', False)\n",
    "pd.set_option('display.max_columns', None)\n",
    "pd.set_option(\"display.max_rows\", None)"
   ]
  },
  {
   "cell_type": "code",
   "execution_count": null,
   "metadata": {},
   "outputs": [],
   "source": [
    "from io import StringIO\n",
    "\n",
    "# ✅ Get all UPK Registration form responses\n",
    "# using the shared report endpoint\n",
    "\n",
    "bridgecare_providers_url = os.getenv(\"API_URL\")\n",
    "\n",
    "# Report Name: [Tableau Export] Provider Proposed Seat Counts\n",
    "# Report Url: https://admin.upk.colorado.gov/reports/31648a31-6bb8-474e-8832-c361aa79b34c\n",
    "report_id = os.getenv(\"REPORT_ID\")\n",
    "bc_params = {'share_token': os.getenv(\"SHARE_TOKEN\")}\n",
    "\n",
    "response = requests.get(bridgecare_providers_url +\n",
    "                        report_id, params=bc_params)\n",
    "\n",
    "df = pd.read_csv(StringIO(response.text), sep=\",\")\n",
    "\n",
    "# count of rows\n",
    "print(df.shape[0])\n",
    "df.head()"
   ]
  },
  {
   "cell_type": "code",
   "execution_count": null,
   "metadata": {},
   "outputs": [],
   "source": [
    "df[\"Half day (AM)\"] = pd.to_numeric(df[\"Half day (AM)\"], errors='coerce')\n",
    "df[\"Half day (PM)\"] = pd.to_numeric(df[\"Half day (PM)\"], errors='coerce')\n",
    "df[\"Part-Time\"] = pd.to_numeric(df[\"Part-Time\"], errors='coerce')\n",
    "df[\"Full day\"] = pd.to_numeric(df[\"Full day\"], errors='coerce')\n",
    "df[\"Extended day\"] = pd.to_numeric(df[\"Extended day\"], errors='coerce')\n",
    "df.head()\n"
   ]
  },
  {
   "cell_type": "code",
   "execution_count": null,
   "metadata": {},
   "outputs": [],
   "source": [
    "# - For each provider, create program where seat type > 0\n",
    "programs_4yo_df = pd.DataFrame(columns=['Provider ID', 'Business Name', 'Provider Name', 'Program Name', 'Age max', 'Age min', 'Active', 'Age Group ID'])\n",
    "\n",
    "for index, row in df.iterrows():\n",
    "\n",
    "    if row['Half day (AM)'] > 0:\n",
    "        programs_4yo_df.loc[len(programs_4yo_df) + 1] = [\n",
    "            row[\"ID\"], row['Business.Name'], row['Name'], '4 Year Old - Half day (AM)', 59, 48, True, '72eae989-7a8f-49eb-a8b9-a3cf736f5817']\n",
    "\n",
    "    if row['Half day (PM)'] > 0:\n",
    "        programs_4yo_df.loc[len(programs_4yo_df)+ 1] = [\n",
    "            row[\"ID\"], row['Business.Name'], row['Name'], '4 Year Old - Half day (PM)', 59, 48, True, '72eae989-7a8f-49eb-a8b9-a3cf736f5817']\n",
    "\n",
    "    if row['Part-Time'] > 0:\n",
    "        programs_4yo_df.loc[len(programs_4yo_df)+ 1] = [\n",
    "            row[\"ID\"], row['Business.Name'], row['Name'], '4 Year Old - Part-Time', 59, 48, True, '72eae989-7a8f-49eb-a8b9-a3cf736f5817']\n",
    "\n",
    "    if row['Full day'] > 0:\n",
    "        programs_4yo_df.loc[len(programs_4yo_df)+ 1] = [\n",
    "            row[\"ID\"], row['Business.Name'], row['Name'], '4 Year Old - Full day', 59, 48, True, '72eae989-7a8f-49eb-a8b9-a3cf736f5817']\n",
    "\n",
    "    if row['Extended day'] > 0:\n",
    "        programs_4yo_df.loc[len(programs_4yo_df)+ 1] = [\n",
    "            row[\"ID\"], row['Business.Name'], row['Name'], '4 Year Old - Extended day', 59, 48, True, '72eae989-7a8f-49eb-a8b9-a3cf736f5817']\n",
    "\n",
    "\n",
    "print(len(programs_4yo_df))\n",
    "programs_4yo_df.head()\n",
    "# ✅ Assign relevant Provider ID to program\n",
    "# ✅ Types: Part Time AM, Part Time PM, Full day, Extended day\n"
   ]
  },
  {
   "cell_type": "code",
   "execution_count": null,
   "metadata": {},
   "outputs": [],
   "source": [
    "import time\n",
    "# Date for filenames\n",
    "date = time.strftime(\"%Y-%m-%d\")\n",
    "\n",
    "# Import DECL Licensed Provider report as DataFrame.\n",
    "programs_4yo_df.to_csv(\n",
    "    '../../data_out/bridgecare/program/4yo_programs_'+date+'.csv', index=False)\n"
   ]
  }
 ],
 "metadata": {
  "kernelspec": {
   "display_name": "Python 3",
   "language": "python",
   "name": "python3"
  },
  "language_info": {
   "codemirror_mode": {
    "name": "ipython",
    "version": 3
   },
   "file_extension": ".py",
   "mimetype": "text/x-python",
   "name": "python",
   "nbconvert_exporter": "python",
   "pygments_lexer": "ipython3",
   "version": "3.8.10"
  },
  "orig_nbformat": 4,
  "vscode": {
   "interpreter": {
    "hash": "7e69a080dbb0454b97739f90e27cc0c8ab0d23286341dc422cf4982f63083ebf"
   }
  }
 },
 "nbformat": 4,
 "nbformat_minor": 2
}
